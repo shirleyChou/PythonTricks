{
 "cells": [
  {
   "cell_type": "markdown",
   "metadata": {},
   "source": [
    "# 流程控制\n",
    "## if 语句\n",
    "可能会有零到多个 elif 部分，else 是可选的。关键字 elif 是 “else if” 的缩写，这个可以有效避免过深的缩进。if ... elif ... elif ... 序列用于替代其它语言中的 `switch`或`case`语句。"
   ]
  },
  {
   "cell_type": "code",
   "execution_count": 2,
   "metadata": {
    "collapsed": false
   },
   "outputs": [
    {
     "name": "stdout",
     "output_type": "stream",
     "text": [
      "['apple', 'banana', 'orange', 'grape', 'watermelon']\n",
      "<type 'tuple'>\n",
      "{'c': 'finish', 'b': 1}\n"
     ]
    }
   ],
   "source": [
    "from operator import methodcaller\n",
    "\n",
    "def what_type_could_variables_change_to(variable):\n",
    "    if isinstance(variable, int):\n",
    "        return variable\n",
    "    elif isinstance(variable, str):\n",
    "        if ',' in variable:\n",
    "            change_str_to_list = [i.strip() for i in s.split(',')]\n",
    "            # change_str_to_list = map(methodcaller(\"strip\"), s.split(','))\n",
    "            return change_str_to_list\n",
    "    elif isinstance(variable, list):\n",
    "        if variable:\n",
    "            return tuple(variable)\n",
    "    elif isinstance(variable, dict):\n",
    "        for k, v in d.items():\n",
    "            if d[k] is None:\n",
    "                del d[k]\n",
    "        d['c'] = 'finish'\n",
    "        return d\n",
    "        \n",
    "s = \"apple, banana, orange, grape, watermelon\"\n",
    "# print s.split(',')\n",
    "d = {'a': None, 'b': 1}\n",
    "\n",
    "l = what_type_could_variables_change_to(s)\n",
    "print l\n",
    "t = what_type_could_variables_change_to(l)\n",
    "print type(t)\n",
    "\n",
    "# If a mutable object is passed, caller will see changes.\n",
    "what_type_could_variables_change_to(d)\n",
    "print d"
   ]
  },
  {
   "cell_type": "markdown",
   "metadata": {},
   "source": [
    "## break语句，循环中的else语句\n",
    "break语句和C中的类似，用于跳出最近的一级for或while循环。\n",
    "\n",
    "**循环**可以有一个else子句；它在循环迭代完整个列表(对于 for)后或执行条件为false(对于while)时执行，但循环被break中止的情况下不会执行。"
   ]
  },
  {
   "cell_type": "code",
   "execution_count": 3,
   "metadata": {
    "collapsed": false
   },
   "outputs": [
    {
     "name": "stdout",
     "output_type": "stream",
     "text": [
      "2 is a prime number\n",
      "3 is a prime number\n",
      "4 equals 2 * 2\n",
      "5 is a prime number\n",
      "6 equals 2 * 3\n",
      "7 is a prime number\n",
      "8 equals 2 * 4\n",
      "9 equals 3 * 3\n"
     ]
    }
   ],
   "source": [
    "for n in range(2, 10):\n",
    "    for x in range(2, n):\n",
    "        if n % x == 0:\n",
    "            print n, 'equals', x, '*', n/x\n",
    "            break\n",
    "        # loop fell through without finding a factor\n",
    "    else:\n",
    "        print n, 'is a prime number'"
   ]
  },
  {
   "cell_type": "code",
   "execution_count": 4,
   "metadata": {
    "collapsed": false
   },
   "outputs": [
    {
     "name": "stdout",
     "output_type": "stream",
     "text": [
      "1 1 1\n",
      "2 4 5\n",
      "3 9 12\n"
     ]
    }
   ],
   "source": [
    "for x, y, z in [(1, 1, 1), (2, 4, 5), (3, 9, 12)]:\n",
    "    print x, y, z"
   ]
  },
  {
   "cell_type": "markdown",
   "metadata": {},
   "source": [
    "## continue语句\n",
    "continue 语句是从 C 中借鉴来的，它表示循环继续执行下一次迭代"
   ]
  },
  {
   "cell_type": "code",
   "execution_count": 5,
   "metadata": {
    "collapsed": false
   },
   "outputs": [
    {
     "name": "stdout",
     "output_type": "stream",
     "text": [
      "Found an even number 2\n",
      "Found a number 3\n",
      "Found an even number 4\n",
      "Found a number 5\n",
      "Found an even number 6\n",
      "Found a number 7\n",
      "Found an even number 8\n",
      "Found a number 9\n"
     ]
    }
   ],
   "source": [
    "for num in range(2, 10):\n",
    "    if num % 2 == 0:\n",
    "        print \"Found an even number\", num\n",
    "        continue\n",
    "    print \"Found a number\", num"
   ]
  },
  {
   "cell_type": "markdown",
   "metadata": {},
   "source": [
    "## pass 语句\n",
    "pass 语句什么也不做。它用于那些语法上必须要有什么语句，但程序什么也不做的场合，例如:"
   ]
  },
  {
   "cell_type": "code",
   "execution_count": null,
   "metadata": {
    "collapsed": true
   },
   "outputs": [],
   "source": [
    "while True:\n",
    "    pass  # Busy-wait for keyboard interrupt (Ctrl+C)"
   ]
  },
  {
   "cell_type": "markdown",
   "metadata": {},
   "source": [
    "##### 作用：\n",
    "* 通常用于创建最小结构的类\n",
    "* 在创建新代码时用来做函数或控制体的占位符"
   ]
  },
  {
   "cell_type": "code",
   "execution_count": null,
   "metadata": {
    "collapsed": true
   },
   "outputs": [],
   "source": [
    "class MyEmptyClass:\n",
    "    pass\n",
    "\n",
    "def initlog(*args):\n",
    "    pass   # Remember to implement this!"
   ]
  },
  {
   "cell_type": "markdown",
   "metadata": {},
   "source": [
    "## Function\n",
    "### 定义函数\n",
    "* 在Python中，定义一个函数要使用def语句，依次写出函数名、括号、括号中的参数和冒号:\n",
    "* 然后，在缩进块中编写函数体\n",
    "* 所有的function无论写不写return语句都会返回值。\n",
    "    * 不带表达式的return返回None。过程结束后也会返回None。\n",
    "    * 返回多个值，将会把这些值组合成一个tuple。"
   ]
  },
  {
   "cell_type": "code",
   "execution_count": 7,
   "metadata": {
    "collapsed": false
   },
   "outputs": [
    {
     "name": "stdout",
     "output_type": "stream",
     "text": [
      "3 1 2\n",
      "(3, 1, 2)\n"
     ]
    }
   ],
   "source": [
    "def return_multiple_values(a, b, c):\n",
    "    a, b, c = c, a, b\n",
    "    return a, b, c\n",
    "\n",
    "\n",
    "\n",
    "result = return_multiple_values(1, 2, 3)\n",
    "x, y, z = result\n",
    "print x, y, z\n",
    "print result\n",
    "# print bool(result is None)\n",
    "# print \"The type of {value} is {t}\".format(t=type(result), value=result)"
   ]
  },
  {
   "cell_type": "markdown",
   "metadata": {},
   "source": [
    "### [Pass-By-Value or Pass-By-Reference](http://robertheaton.com/2014/02/09/pythons-pass-by-object-reference-as-explained-by-philip-k-dick/)\n",
    "Best to think of it as **pass-by-object-reference**. i.e. **Object references are passed by value**: the function and caller use the same object in memory, but accessed through different variables. This means that the same object is being stored in multiple different boxes."
   ]
  },
  {
   "cell_type": "code",
   "execution_count": 8,
   "metadata": {
    "collapsed": false
   },
   "outputs": [
    {
     "name": "stdout",
     "output_type": "stream",
     "text": [
      "[0]\n",
      "[0, 1]\n"
     ]
    }
   ],
   "source": [
    "def reassign(l):\n",
    "  l = [0, 1]  \n",
    "\n",
    "def append(l):\n",
    "  l.append(1)\n",
    "\n",
    "l = [0]\n",
    "reassign(l)\n",
    "print l\n",
    "\n",
    "append(l)\n",
    "print l"
   ]
  },
  {
   "cell_type": "markdown",
   "metadata": {},
   "source": [
    "### 函数的参数"
   ]
  },
  {
   "cell_type": "markdown",
   "metadata": {},
   "source": [
    "#### 0. 必选参数\n",
    "#### 1. 默认参数\n",
    "##### 在函数调用中\n",
    "* 必选参数在前，默认参数在后\n",
    "* 有多个默认参数，调用的时候：\n",
    "    * 既可以按顺序提供默认参数，比如调用enroll('Bob', 'M', 7)\n",
    "    * 也可以不按顺序提供部分默认参数。当不按顺序提供部分默认参数时，需要把参数名写上。比如调用enroll('Adam', 'M', city='Tianjin')"
   ]
  },
  {
   "cell_type": "code",
   "execution_count": 9,
   "metadata": {
    "collapsed": true
   },
   "outputs": [],
   "source": [
    "def enroll(name, gender, age=6, city='Beijing'):\n",
    "    print 'name:', name\n",
    "    print 'gender:', gender\n",
    "    print 'age:', age\n",
    "    print 'city:', city"
   ]
  },
  {
   "cell_type": "markdown",
   "metadata": {},
   "source": [
    "接受一个必选参数( voltage )以及三个可选参数( state, action, 和 type )。可以用以下的任一方法调用:"
   ]
  },
  {
   "cell_type": "code",
   "execution_count": 14,
   "metadata": {
    "collapsed": false
   },
   "outputs": [],
   "source": [
    "def parrot(voltage, state='China', action='voom', type='Norwegian Blue'):\n",
    "    print \"-- This parrot wouldn't\", action,\n",
    "    print \"if you put\", voltage, \"volts through it.\"\n",
    "    print \"-- Lovely plumage, the\", type\n",
    "    print \"-- It's\", state, \"!\""
   ]
  },
  {
   "cell_type": "code",
   "execution_count": 15,
   "metadata": {
    "collapsed": false
   },
   "outputs": [
    {
     "name": "stdout",
     "output_type": "stream",
     "text": [
      "-- This parrot wouldn't voom if you put 1000 volts through it.\n",
      "-- Lovely plumage, the Norwegian Blue\n",
      "-- It's China !\n",
      "-- This parrot wouldn't voom if you put 1000 volts through it.\n",
      "-- Lovely plumage, the Norwegian Blue\n",
      "-- It's China !\n",
      "-- This parrot wouldn't VOOOOOM if you put 1000000 volts through it.\n",
      "-- Lovely plumage, the Norwegian Blue\n",
      "-- It's China !\n",
      "-- This parrot wouldn't VOOOOOM if you put 1000000 volts through it.\n",
      "-- Lovely plumage, the Norwegian Blue\n",
      "-- It's China !\n",
      "-- This parrot wouldn't jump if you put a million volts through it.\n",
      "-- Lovely plumage, the Norwegian Blue\n",
      "-- It's bereft of life !\n",
      "-- This parrot wouldn't voom if you put a thousand volts through it.\n",
      "-- Lovely plumage, the Norwegian Blue\n",
      "-- It's pushing up the daisies !\n"
     ]
    }
   ],
   "source": [
    "parrot(1000)                                          # 1 positional argument\n",
    "parrot(voltage=1000)                                  # 1 keyword argument\n",
    "parrot(voltage=1000000, action='VOOOOOM')             # 2 keyword arguments\n",
    "parrot(action='VOOOOOM', voltage=1000000)             # 2 keyword arguments\n",
    "parrot('a million', 'bereft of life', 'jump')         # 3 positional arguments\n",
    "parrot('a thousand', state='pushing up the daisies')  # 1 positional, 1 keyword"
   ]
  },
  {
   "cell_type": "markdown",
   "metadata": {},
   "source": [
    "* 传递的所有关键字参数必须与函数接受的某个参数相匹配（例如actor不是parrot函数的有效参数），它们的顺序并不重要。这也包括非可选参数（例如 parrot(voltage=1000) 也是有效的）\n",
    "* 任何参数都不可以多次赋值\n",
    "\n",
    "以下几种调用是无效的："
   ]
  },
  {
   "cell_type": "code",
   "execution_count": 17,
   "metadata": {
    "collapsed": false
   },
   "outputs": [
    {
     "ename": "SyntaxError",
     "evalue": "non-keyword arg after keyword arg (<ipython-input-17-b68b97b43e2a>, line 2)",
     "output_type": "error",
     "traceback": [
      "\u001b[0;36m  File \u001b[0;32m\"<ipython-input-17-b68b97b43e2a>\"\u001b[0;36m, line \u001b[0;32m2\u001b[0m\n\u001b[0;31m    parrot(voltage=5.0, 'dead')  # non-keyword argument after a keyword argument\u001b[0m\n\u001b[0;31mSyntaxError\u001b[0m\u001b[0;31m:\u001b[0m non-keyword arg after keyword arg\n"
     ]
    }
   ],
   "source": [
    "parrot()                     # required argument missing\n",
    "parrot(voltage=5.0, 'dead')  # non-keyword argument after a keyword argument\n",
    "parrot(110, voltage=220)     # duplicate value for the same argument\n",
    "parrot(actor='John Cleese')  # unknown keyword argument"
   ]
  },
  {
   "cell_type": "markdown",
   "metadata": {},
   "source": [
    "当默认值是可变对象时会有所不同，比如列表、字典或者大多数类的实例。例如，下面的函数在后续调用过程中会累积(前面)传给它的参数:"
   ]
  },
  {
   "cell_type": "code",
   "execution_count": 18,
   "metadata": {
    "collapsed": false
   },
   "outputs": [
    {
     "name": "stdout",
     "output_type": "stream",
     "text": [
      "[1]\n",
      "[1, 2]\n",
      "[1, 2, 3]\n"
     ]
    }
   ],
   "source": [
    "def f(a, L=[]):\n",
    "    L.append(a)\n",
    "    return L\n",
    "\n",
    "print f(1)\n",
    "print f(2)\n",
    "print f(3)"
   ]
  },
  {
   "cell_type": "markdown",
   "metadata": {},
   "source": [
    "#### 2. 可变参数（Variadic Positional Arguments)\n",
    "可变参数就是传入的参数个数是可变的，可以是1个、2个到任意个，还可以是0个。这些可变参数在函数调用时自动组装为一个**tuple**。"
   ]
  },
  {
   "cell_type": "code",
   "execution_count": 19,
   "metadata": {
    "collapsed": false
   },
   "outputs": [
    {
     "name": "stdout",
     "output_type": "stream",
     "text": [
      "(1, 2, 3, 5)\n",
      "30\n",
      "(1, 2, 4, 5, 6)\n",
      "240\n"
     ]
    }
   ],
   "source": [
    "\"\"\"\n",
    "假设我们需要一个可以这样做的函数：\n",
    "product(3, 5) # => 15\n",
    "product(3, 4, 2) # => 24\n",
    "product(3, 5, 10, 1) # => 150\n",
    "\n",
    "即传入的参数的个数是不固定的\n",
    "\"\"\"\n",
    "from operator import mul\n",
    "def products(*nums):\n",
    "    print nums\n",
    "    return reduce(mul, nums)\n",
    "\n",
    "print products(1, 2, 3, 5)\n",
    "\n",
    "l = [1,2,4,5,6]\n",
    "print products(*l) "
   ]
  },
  {
   "cell_type": "markdown",
   "metadata": {},
   "source": [
    "#### 3. 关键字参数（Variadic Keyword Arguments)\n",
    "关键字参数允许你传入0个或任意个含参数名的参数，这些关键字参数在函数内部自动组装为一个**dict**"
   ]
  },
  {
   "cell_type": "code",
   "execution_count": 20,
   "metadata": {
    "collapsed": false
   },
   "outputs": [
    {
     "name": "stdout",
     "output_type": "stream",
     "text": [
      "kw is a <type 'dict'>\n",
      "('name:', 'Michael', 'age:', 30, 'other:', {})\n",
      "******************************\n",
      "kw is a <type 'dict'>\n",
      "('name:', 'Bob', 'age:', 35, 'other:', {'city': 'Beijing'})\n",
      "******************************\n",
      "kw is a <type 'dict'>\n",
      "('name:', 'Adam', 'age:', 45, 'other:', {'gender': 'M', 'job': 'Engineer'})\n",
      "******************************\n",
      "kw is a <type 'dict'>\n",
      "('name:', 'Jack', 'age:', 24, 'other:', {'city': 'Beijing', 'job': 'Engineer'})\n",
      "******************************\n"
     ]
    }
   ],
   "source": [
    "def person(name, age, **kw):\n",
    "    print \"kw is a {}\".format(type(kw))\n",
    "    print('name:', name, 'age:', age, 'other:', kw) \n",
    "    print '*' * 30\n",
    "\n",
    "person('Michael', 30)\n",
    "person('Bob', 35, city='Beijing')\n",
    "person('Adam', 45, gender='M', job='Engineer')\n",
    "\n",
    "extra = {'city': 'Beijing', 'job': 'Engineer'}\n",
    "person('Jack', 24, **extra)\n",
    "# print **extra"
   ]
  },
  {
   "cell_type": "markdown",
   "metadata": {},
   "source": [
    "#### 参数组合\n",
    "在Python中定义函数，可以用必选参数、默认参数、可变参数和关键字参数，这4种参数都可以一起使用，或者只用其中某些，但是请注意，参数定义的顺序必须是：必选参数、默认参数、可变参数和关键字参数。"
   ]
  },
  {
   "cell_type": "code",
   "execution_count": 21,
   "metadata": {
    "collapsed": false
   },
   "outputs": [
    {
     "name": "stdout",
     "output_type": "stream",
     "text": [
      "a = 1 b = 2 c = 0 args = () kw = {}\n",
      "a = 1 b = 2 c = 3 args = ('a', 'b') kw = {}\n",
      "a = 1 b = 2 c = 3 args = ('a', 'b') kw = {'y': 100, 'x': 99}\n"
     ]
    }
   ],
   "source": [
    "def func(a, b, c=0, *args, **kw):\n",
    "    print 'a =', a, 'b =', b, 'c =', c, 'args =', args, 'kw =', kw\n",
    "\n",
    "func(1, 2)\n",
    "func(1, 2, 3, 'a', 'b')\n",
    "func(1, 2, 3, 'a', 'b', x=99, y=100)"
   ]
  },
  {
   "cell_type": "markdown",
   "metadata": {},
   "source": [
    "### [Built-in function](https://docs.python.org/2/library/functions.html)\n",
    "Python内置了很多有用的函数，我们可以直接调用。\n",
    "* 数据类型转换：int(), str(), tuple(), bool(), float(), list(), long(), set(), frozenset()\n",
    "* 判断数据类型：isinstance(), type()\n",
    "* 数学操作：abs(), sum(), max(), min(), round()\n",
    "* 文件I/O：open(), file(), raw_input()\n",
    "* 类操作：super()\n",
    "* mapReduce: map(), filter(), reduce()\n",
    "* range(), xrange(), len(), zip(), reversed(), \n",
    "* and so on"
   ]
  },
  {
   "cell_type": "code",
   "execution_count": 22,
   "metadata": {
    "collapsed": false,
    "scrolled": true
   },
   "outputs": [
    {
     "name": "stdout",
     "output_type": "stream",
     "text": [
      "Help on built-in function abs in module __builtin__:\n",
      "\n",
      "abs(...)\n",
      "    abs(number) -> number\n",
      "    \n",
      "    Return the absolute value of the argument.\n",
      "\n",
      "None\n"
     ]
    }
   ],
   "source": [
    "# 要调用一个函数，需要知道函数的名称和参数，比如求绝对值的函数abs，只有一个参数\n",
    "# print abs(-100)\n",
    "print help(abs)"
   ]
  },
  {
   "cell_type": "markdown",
   "metadata": {},
   "source": [
    "#### bool()"
   ]
  },
  {
   "cell_type": "code",
   "execution_count": 23,
   "metadata": {
    "collapsed": false
   },
   "outputs": [
    {
     "name": "stdout",
     "output_type": "stream",
     "text": [
      "False\n",
      "False\n",
      "False\n",
      "True\n",
      "True\n",
      "True\n"
     ]
    }
   ],
   "source": [
    "print bool(None)\n",
    "print bool(\"\")\n",
    "print bool(0)\n",
    "\n",
    "print bool(\" \")\n",
    "print bool(1)\n",
    "print bool(-1)"
   ]
  },
  {
   "cell_type": "markdown",
   "metadata": {},
   "source": [
    "#### frozenset() & set()\n",
    "frozenset的作用是使传入的数据类型（无论是不是mutable）became immutable, 从而可以成为dictionary的键值（key）"
   ]
  },
  {
   "cell_type": "code",
   "execution_count": 24,
   "metadata": {
    "collapsed": false
   },
   "outputs": [
    {
     "name": "stdout",
     "output_type": "stream",
     "text": [
      "3138257626259684061\n"
     ]
    }
   ],
   "source": [
    "fs = frozenset(['a', 'b'])\n",
    "print hash(fs)"
   ]
  },
  {
   "cell_type": "code",
   "execution_count": 25,
   "metadata": {
    "collapsed": false
   },
   "outputs": [
    {
     "name": "stdout",
     "output_type": "stream",
     "text": [
      "set(['1', '3', '2', '5', '4', '7', '6'])\n",
      "set([8, '1', '3', '2', '5', '4', '7', '6'])\n"
     ]
    },
    {
     "ename": "AttributeError",
     "evalue": "'frozenset' object has no attribute 'add'",
     "output_type": "error",
     "traceback": [
      "\u001b[0;31m---------------------------------------------------------------------------\u001b[0m",
      "\u001b[0;31mAttributeError\u001b[0m                            Traceback (most recent call last)",
      "\u001b[0;32m<ipython-input-25-0503ca520217>\u001b[0m in \u001b[0;36m<module>\u001b[0;34m()\u001b[0m\n\u001b[1;32m      7\u001b[0m \u001b[0;34m\u001b[0m\u001b[0m\n\u001b[1;32m      8\u001b[0m \u001b[0mb\u001b[0m \u001b[0;34m=\u001b[0m \u001b[0mfrozenset\u001b[0m\u001b[0;34m(\u001b[0m\u001b[0ma\u001b[0m\u001b[0;34m)\u001b[0m\u001b[0;34m\u001b[0m\u001b[0m\n\u001b[0;32m----> 9\u001b[0;31m \u001b[0mb\u001b[0m\u001b[0;34m.\u001b[0m\u001b[0madd\u001b[0m\u001b[0;34m(\u001b[0m\u001b[0;36m9\u001b[0m\u001b[0;34m)\u001b[0m\u001b[0;34m\u001b[0m\u001b[0m\n\u001b[0m",
      "\u001b[0;31mAttributeError\u001b[0m: 'frozenset' object has no attribute 'add'"
     ]
    }
   ],
   "source": [
    "a = '12325467411'\n",
    "a = set(a)\n",
    "print a \n",
    "\n",
    "a.add(8)\n",
    "print a\n",
    "\n",
    "b = frozenset(a)\n",
    "b.add(9)"
   ]
  },
  {
   "cell_type": "markdown",
   "metadata": {},
   "source": [
    "#### enumerate()\n",
    "for row_number, row in enumerate(cursor):"
   ]
  },
  {
   "cell_type": "code",
   "execution_count": 26,
   "metadata": {
    "collapsed": false
   },
   "outputs": [
    {
     "name": "stdout",
     "output_type": "stream",
     "text": [
      "foo\n",
      "bar\n",
      "baz\n",
      "******************************\n",
      "0 foo\n",
      "1 bar\n",
      "2 baz\n"
     ]
    }
   ],
   "source": [
    "elements = ('foo', 'bar', 'baz')\n",
    "for elem in elements:\n",
    "    print elem\n",
    "\n",
    "print '*' * 30\n",
    "\n",
    "for key, elem in enumerate(elements):\n",
    "    print key, elem"
   ]
  },
  {
   "cell_type": "code",
   "execution_count": 27,
   "metadata": {
    "collapsed": false
   },
   "outputs": [
    {
     "name": "stdout",
     "output_type": "stream",
     "text": [
      "{8: [1, 2], 9: [9, 0], 7: [7, 8]}\n"
     ]
    }
   ],
   "source": [
    "a = [[1,2], [3,4], [5,6], [7,8], [9,0]]\n",
    "b = [8,7,9,7,9]\n",
    "c = zip(b, a)\n",
    "print dict(c)"
   ]
  },
  {
   "cell_type": "markdown",
   "metadata": {},
   "source": [
    "### [See Other built-in function, Click here](https://github.com/shirleyChou/PythonTricks/blob/master/PythonTricks.md)"
   ]
  }
 ],
 "metadata": {
  "kernelspec": {
   "display_name": "Python 2",
   "language": "python",
   "name": "python2"
  },
  "language_info": {
   "codemirror_mode": {
    "name": "ipython",
    "version": 2
   },
   "file_extension": ".py",
   "mimetype": "text/x-python",
   "name": "python",
   "nbconvert_exporter": "python",
   "pygments_lexer": "ipython2",
   "version": "2.7.10"
  }
 },
 "nbformat": 4,
 "nbformat_minor": 0
}
