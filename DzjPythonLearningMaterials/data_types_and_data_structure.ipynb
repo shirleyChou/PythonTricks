{
 "cells": [
  {
   "cell_type": "markdown",
   "metadata": {},
   "source": [
    "# Python Basics"
   ]
  },
  {
   "cell_type": "markdown",
   "metadata": {},
   "source": [
    "## 注释"
   ]
  },
  {
   "cell_type": "code",
   "execution_count": null,
   "metadata": {
    "collapsed": true
   },
   "outputs": [],
   "source": [
    "# Single line comments start with a number symbol.\n",
    "\n",
    "\"\"\" Multiline strings can be written\n",
    "    using three \"s, and are often used\n",
    "    as comments\n",
    "\"\"\""
   ]
  },
  {
   "cell_type": "markdown",
   "metadata": {},
   "source": [
    "## 数据类型"
   ]
  },
  {
   "cell_type": "code",
   "execution_count": 1,
   "metadata": {
    "collapsed": false
   },
   "outputs": [
    {
     "name": "stdout",
     "output_type": "stream",
     "text": [
      "<type 'int'>\n",
      "<type 'int'>\n",
      "********************\n",
      "<type 'float'>\n",
      "<type 'float'>\n",
      "********************\n",
      "<type 'str'>\n",
      "<type 'str'>\n",
      "I'm OK\n",
      "I'm \"OK\"!\n",
      "********************\n",
      "<type 'bool'>\n",
      "<type 'bool'>\n",
      "********************\n",
      "<type 'NoneType'>\n",
      "False\n",
      "True\n"
     ]
    }
   ],
   "source": [
    "# 整数\n",
    "print type(1)\n",
    "print type(-1)\n",
    "print \"*\" * 20\n",
    "\n",
    "# 浮点数\n",
    "print type(1.23)\n",
    "print type(-9.01)\n",
    "print \"*\" * 20\n",
    "\n",
    "\"\"\" 字符串\n",
    "pep8:\n",
    "Python中，单引号字符串和双引号字符串是一样的。本PEP不建议如此。建议选择一条规则并坚持下去。\n",
    "当一个字符串包含单引号字符或双引号字符时，使用另一种字符串引号来避免字符串中使用反斜杠。这提高可读性。\n",
    "\"\"\" \n",
    " \n",
    "print type(\"abc\")\n",
    "print type('xyz')\n",
    "print \"I'm OK\"\n",
    "print 'I\\'m \\\"OK\\\"!' \n",
    "print \"*\" * 20\n",
    "\n",
    "# 布尔值\n",
    "print type(True)\n",
    "print type(False)\n",
    "print \"*\" * 20\n",
    "\n",
    "# Any object can be used in a Boolean context.\n",
    "# The following values are considered falsey:\n",
    "#    - None\n",
    "#    - zero of any numeric type (e.g., 0, 0L, 0.0, 0j)\n",
    "#    - empty sequences (e.g., '', (), [])\n",
    "#    - empty containers (e.g., {}, set())\n",
    "#    - instances of user-defined classes meeting certain conditions\n",
    "#      see: https://docs.python.org/2/reference/datamodel.html#object.__nonzero__\n",
    "#\n",
    "\n",
    "\n",
    "# 空值\n",
    "print type(None)\n",
    "\n",
    "# Don't use the equality \"==\" symbol to compare objects to None\n",
    "# Use \"is\" instead\n",
    "print \"etc\" is None  # => False\n",
    "print None is None  # => True\n",
    "\n",
    "# The 'is' operator tests for object identity. This isn't very useful when dealing with primitive values, \n",
    "# but is very useful when dealing with objects."
   ]
  },
  {
   "cell_type": "markdown",
   "metadata": {},
   "source": [
    "## 操作符"
   ]
  },
  {
   "cell_type": "markdown",
   "metadata": {},
   "source": [
    "### 数学操作符"
   ]
  },
  {
   "cell_type": "code",
   "execution_count": 2,
   "metadata": {
    "collapsed": false
   },
   "outputs": [
    {
     "name": "stdout",
     "output_type": "stream",
     "text": [
      "2\n",
      "7\n",
      "20\n",
      "7\n"
     ]
    }
   ],
   "source": [
    "# Math is what you would expect\n",
    "print 1 + 1  # => 2\n",
    "print 8 - 1  # => 7\n",
    "print 10 * 2  # => 20\n",
    "print 35 / 5  # => 7"
   ]
  },
  {
   "cell_type": "code",
   "execution_count": 3,
   "metadata": {
    "collapsed": false
   },
   "outputs": [
    {
     "name": "stdout",
     "output_type": "stream",
     "text": [
      "2\n",
      "2.5\n",
      "2.75\n"
     ]
    }
   ],
   "source": [
    "# Division is a bit tricky. It is integer division and floors the results\n",
    "# automatically.\n",
    "print 5 / 2 # => 2\n",
    "\n",
    "2.0     # This is a float\n",
    "print 5 / 2.0 # => 2.5\n",
    "print 11.0 / 4.0  # => 2.75 ahhh...much better"
   ]
  },
  {
   "cell_type": "code",
   "execution_count": 4,
   "metadata": {
    "collapsed": false
   },
   "outputs": [
    {
     "name": "stdout",
     "output_type": "stream",
     "text": [
      "2\n",
      "2.0\n",
      "-3\n",
      "-3.0\n",
      "2.75\n",
      "2\n"
     ]
    }
   ],
   "source": [
    "# Result of integer division truncated down both for positive and negative.\n",
    "print 7 // 3     # => 2\n",
    "print 7.0 // 3.0 # => 2.0 # works on floats too\n",
    "print -7 // 3  # => -3\n",
    "print -7.0 // 3.0 # => -3.0\n",
    "\n",
    "# Note that we can also import division module(Section 6 Modules)\n",
    "# to carry out normal division with just one '/'.\n",
    "from __future__ import division\n",
    "print 11/4    # => 2.75  ...normal division\n",
    "print 11//4   # => 2 ...floored division"
   ]
  },
  {
   "cell_type": "code",
   "execution_count": 5,
   "metadata": {
    "collapsed": false
   },
   "outputs": [
    {
     "name": "stdout",
     "output_type": "stream",
     "text": [
      "1\n",
      "16\n",
      "16\n",
      "8\n"
     ]
    }
   ],
   "source": [
    "# Modulo operation\n",
    "print 7 % 3 # => 1\n",
    "\n",
    "# Exponentiation (x to the yth power)\n",
    "print 2**4 # => 16\n",
    "print (2**4)\n",
    "\n",
    "# Enforce precedence with parentheses\n",
    "print (1 + 3) * 2  # => 8"
   ]
  },
  {
   "cell_type": "markdown",
   "metadata": {},
   "source": [
    "### 逻辑操作符\n",
    "`and`, `or`, `not`"
   ]
  },
  {
   "cell_type": "code",
   "execution_count": 6,
   "metadata": {
    "collapsed": false
   },
   "outputs": [
    {
     "name": "stdout",
     "output_type": "stream",
     "text": [
      "0\n",
      "-5\n",
      "False\n",
      "True\n",
      "False\n",
      "True\n",
      "False\n"
     ]
    }
   ],
   "source": [
    "# For ints\n",
    "print 0 and 2 #=> 0\n",
    "print -5 or 0 #=> -5\n",
    "\n",
    "# For booleans\n",
    "print True and False #=> False\n",
    "print False or True #=> True\n",
    "\n",
    "# negate with not\n",
    "print not True  # => False\n",
    "print not False  # => True\n",
    "\n",
    "print \"\" == None"
   ]
  },
  {
   "cell_type": "markdown",
   "metadata": {},
   "source": [
    "### 关系操作符\n",
    "`<`, `<=`, `>`, `>=`, `!=`, `==`"
   ]
  },
  {
   "cell_type": "code",
   "execution_count": 7,
   "metadata": {
    "collapsed": false
   },
   "outputs": [
    {
     "name": "stdout",
     "output_type": "stream",
     "text": [
      "True\n",
      "False\n",
      "False\n",
      "False\n",
      "True\n",
      "True\n",
      "False\n"
     ]
    }
   ],
   "source": [
    "print 0 == False \n",
    "print None == False\n",
    "print -1 == False\n",
    "print 2 == True \n",
    "print 1 == True\n",
    "\n",
    "print 2 != 1\n",
    "\n",
    "print 2 < 3 < 2"
   ]
  },
  {
   "cell_type": "markdown",
   "metadata": {},
   "source": [
    "## 变量与常量\n",
    "##### 变量名：\n",
    "* 必须是大小写英文、数字和_的组合，且不能用数字开头\n",
    "* 不要使用字符‘l’（小写字母el），‘O’（大写字母oh）或‘I’（大写字母eye）作为单字符变量名。\n",
    "\n",
    "##### 常量\n",
    "* 所有的字母都是大写，单词用下划线分开。例如MAX_OVERFLOW和TOTAL\n",
    "* Python根本没有任何机制保证常量不会被改变，所以，用全部大写的变量名表示常量只是一个习惯上的用法"
   ]
  },
  {
   "cell_type": "code",
   "execution_count": 8,
   "metadata": {
    "collapsed": false
   },
   "outputs": [
    {
     "name": "stdout",
     "output_type": "stream",
     "text": [
      "1\n"
     ]
    }
   ],
   "source": [
    "a = 1\n",
    "b = a\n",
    "a = 2\n",
    "print b"
   ]
  },
  {
   "cell_type": "code",
   "execution_count": 9,
   "metadata": {
    "collapsed": false
   },
   "outputs": [
    {
     "name": "stdout",
     "output_type": "stream",
     "text": [
      "3.1415926\n"
     ]
    }
   ],
   "source": [
    "PI = 3.1415\n",
    "PI = 3.1415926\n",
    "print PI"
   ]
  },
  {
   "cell_type": "markdown",
   "metadata": {},
   "source": [
    "## 数据结构（String, List, Tuple, Dictionary, Set）"
   ]
  },
  {
   "cell_type": "markdown",
   "metadata": {},
   "source": [
    "### String"
   ]
  },
  {
   "cell_type": "code",
   "execution_count": 10,
   "metadata": {
    "collapsed": false
   },
   "outputs": [
    {
     "name": "stdout",
     "output_type": "stream",
     "text": [
      "a= Hello world!\n",
      "b= Hello world!\n",
      "c= HelloHelloHello\n",
      "16\n",
      "z= The items in the basket are apple and lemon\n",
      "d= strings can be formatted\n",
      "Bob wants to eat lasagna\n"
     ]
    }
   ],
   "source": [
    "# Strings can be added too!\n",
    "a = \"Hello \" + \"world!\"  # => \"Hello world!\"\n",
    "print \"a=\", a\n",
    "\n",
    "# Strings can be added without using '+'\n",
    "b = \"Hello \" \"world!\"  # => \"Hello world!\"\n",
    "print \"b=\", b\n",
    "\n",
    "# ... or multiplied\n",
    "c = \"Hello\" * 3  # => \"HelloHelloHello\"\n",
    "print \"c=\", c\n",
    "\n",
    "# You can find the length of a string\n",
    "print len(\"This is a string\")  # => 16\n",
    "\n",
    "#String formatting with %\n",
    "#Even though the % string operator will be deprecated on Python 3.1 and removed\n",
    "#later at some time, it may still be good to know how it works.\n",
    "x = 'apple'\n",
    "y = 'lemon'\n",
    "z = \"The items in the basket are %s and %s\" % (x,y)\n",
    "print \"z=\", z\n",
    "\n",
    "# A newer way to format strings is the format method.\n",
    "# This method is the preferred way\n",
    "\"{} is a {}\".format(\"This\", \"placeholder\")\n",
    "d = \"{1} can be {0}\".format(\"formatted\", \"strings\")\n",
    "print \"d=\", d\n",
    "\n",
    "# You can use keywords if you don't want to count.\n",
    "print \"{name} wants to eat {food}\".format(name=\"Bob\", food=\"lasagna\")"
   ]
  },
  {
   "cell_type": "markdown",
   "metadata": {},
   "source": [
    "### List\n",
    "先进后出"
   ]
  },
  {
   "cell_type": "code",
   "execution_count": 11,
   "metadata": {
    "collapsed": false,
    "scrolled": true
   },
   "outputs": [
    {
     "name": "stdout",
     "output_type": "stream",
     "text": [
      "[1, 2, 3]\n",
      "[2, 3]\n",
      "[2, 3, [4, 5, 6], 4, 5, 6]\n",
      "[2, 3, 4, 5, 6]\n",
      "[3, 4, 5, 6]\n",
      "0\n",
      "4\n"
     ]
    }
   ],
   "source": [
    "# Lists store sequences\n",
    "li = []\n",
    "# You can start with a prefilled list\n",
    "other_li = [4, 5, 6]\n",
    "\n",
    "# Add stuff to the end of a list with append\n",
    "li.append(1)    # li is now [1]\n",
    "li.append(2)    # li is now [1, 2]\n",
    "li.append(4)    # li is now [1, 2, 4]\n",
    "\n",
    "li.insert(2, 3)\n",
    "\n",
    "# Remove from the end with pop\n",
    "li.pop() \n",
    "print li    # li is now [1, 2, 3]\n",
    "li.pop(0)   \n",
    "print li    # li is now [2, 3]\n",
    "li.append(other_li)  # [2, 3, [4, 5, 6]]\n",
    "li.extend(other_li)  # 不需要 li = li.extend(other_li)\n",
    "print li    # [2, 3, 4, 5, 6]\n",
    "\n",
    "# Remove arbitrary elements from a list with \"del\"\n",
    "del li[2]   # li is now [1, 2, 3]\n",
    "print li    # [2, 3, 5, 6]\n",
    "\n",
    "# Remove first occurrence of a value\n",
    "li.remove(2)  # li is now [1, 3, 4, 5, 6]\n",
    "print li\n",
    "\n",
    "# Get the index of the first item found\n",
    "print li.index(3)  # => 1\n",
    "\n",
    "# Check for existence in a list with \"in\"\n",
    "1 in li   # => False\n",
    "\n",
    "# Examine the length with \"len()\"\n",
    "print len(li)   # => 3"
   ]
  },
  {
   "cell_type": "markdown",
   "metadata": {},
   "source": [
    "#### 延展\n",
    "* 用四种不同的方法生成一个list, 并查看他们的速度\n",
    "* 先进先出：deque"
   ]
  },
  {
   "cell_type": "code",
   "execution_count": 12,
   "metadata": {
    "collapsed": false
   },
   "outputs": [
    {
     "name": "stdout",
     "output_type": "stream",
     "text": [
      "[0, 1, 2, 3, 4]\n",
      "[1, 2, 3, 4]\n",
      "[1, 3, 5, 7, 9]\n",
      "********************\n",
      "xrange(1, 7, 2)\n",
      "[1, 3, 5]\n"
     ]
    }
   ],
   "source": [
    "# Built-in function: range\n",
    "print range(5)\n",
    "print range(1, 5)\n",
    "print range(1, 10, 2)\n",
    "print \"*\" * 20\n",
    "\n",
    "print xrange(1, 6, 2)\n",
    "print [i for i in xrange(1, 6, 2)]"
   ]
  },
  {
   "cell_type": "code",
   "execution_count": 13,
   "metadata": {
    "collapsed": false
   },
   "outputs": [
    {
     "name": "stdout",
     "output_type": "stream",
     "text": [
      "('concat ', 1.4637031555175781, 'milliseconds')\n",
      "('append ', 0.12030506134033203, 'milliseconds')\n",
      "('comprehension ', 0.04156494140625, 'milliseconds')\n",
      "('list range ', 0.00829005241394043, 'milliseconds')\n"
     ]
    }
   ],
   "source": [
    "from timeit import Timer\n",
    "\n",
    "def test1():\n",
    "    l = []\n",
    "    for i in range(1000):\n",
    "        l = l + [i]\n",
    "\n",
    "def test2():\n",
    "    l = []\n",
    "    for i in range(1000):\n",
    "        l.append(i)\n",
    "\n",
    "def test3():\n",
    "    # list comprehension（列表生成式）\n",
    "    l = [i for i in range(1000)]\n",
    "\n",
    "def test4():\n",
    "    l = range(1000)\n",
    "\n",
    "t1 = Timer(\"test1()\", \"from __main__ import test1\")\n",
    "print(\"concat \",t1.timeit(number=1000), \"milliseconds\")\n",
    "t2 = Timer(\"test2()\", \"from __main__ import test2\")\n",
    "print(\"append \",t2.timeit(number=1000), \"milliseconds\")\n",
    "t3 = Timer(\"test3()\", \"from __main__ import test3\")\n",
    "print(\"comprehension \",t3.timeit(number=1000), \"milliseconds\")\n",
    "t4 = Timer(\"test4()\", \"from __main__ import test4\")\n",
    "print(\"list range \",t4.timeit(number=1000), \"milliseconds\")"
   ]
  },
  {
   "cell_type": "code",
   "execution_count": 14,
   "metadata": {
    "collapsed": false
   },
   "outputs": [
    {
     "name": "stdout",
     "output_type": "stream",
     "text": [
      "deque(['Eric', 'John', 'Terry', 'Graham'])\n",
      "deque(['Michael', 'Eric', 'John', 'Terry', 'Graham'])\n",
      "Michael\n",
      "Graham\n"
     ]
    }
   ],
   "source": [
    "from collections import deque\n",
    "\n",
    "queue = deque([\"Eric\", \"John\"])\n",
    "queue.append(\"Terry\")           # Terry arrives\n",
    "queue.append(\"Graham\")          # Graham arrives\n",
    "print queue   # deque(['Eric', 'John', 'Terry', 'Graham'])\n",
    "\n",
    "queue.appendleft(\"Michael\")\n",
    "print queue\n",
    "print queue.popleft()                 # The first to arrive now leaves\n",
    "print queue.pop()"
   ]
  },
  {
   "cell_type": "markdown",
   "metadata": {},
   "source": [
    "### Tuple\n",
    "元组。\n",
    "* tuple和list非常类似，但是tuple一旦初始化就不能修改元素的个数，元素看是否可迭代。\n",
    "* 可以正常使用切片。"
   ]
  },
  {
   "cell_type": "code",
   "execution_count": 15,
   "metadata": {
    "collapsed": false
   },
   "outputs": [
    {
     "name": "stdout",
     "output_type": "stream",
     "text": [
      "<type 'tuple'>\n",
      "<type 'int'> <type 'tuple'>\n"
     ]
    }
   ],
   "source": [
    "t = ()\n",
    "print type(t)\n",
    "\n",
    "t1, t2 = (1), (1,)\n",
    "print type(t1), type(t2)\n",
    "\n",
    "t = ('a', 'b', ['A', 'B'])"
   ]
  },
  {
   "cell_type": "markdown",
   "metadata": {},
   "source": [
    "### Dictionary\n",
    "##### 注意\n",
    "* dict内部存放的顺序和key放入的顺序是没有关系的。\n",
    "* 用的是哈希算法。要保证hash的正确性，作为key的对象就不能变。"
   ]
  },
  {
   "cell_type": "markdown",
   "metadata": {},
   "source": [
    "### Set"
   ]
  },
  {
   "cell_type": "code",
   "execution_count": 16,
   "metadata": {
    "collapsed": false
   },
   "outputs": [
    {
     "name": "stdout",
     "output_type": "stream",
     "text": [
      "<type 'set'>\n",
      "<type 'set'>\n"
     ]
    }
   ],
   "source": [
    "a = {1, 3, 4}\n",
    "print type(a)\n",
    "\n",
    "\n",
    "b = set([1,2,3,4])\n",
    "print type(b)"
   ]
  }
 ],
 "metadata": {
  "kernelspec": {
   "display_name": "Python 2",
   "language": "python",
   "name": "python2"
  },
  "language_info": {
   "codemirror_mode": {
    "name": "ipython",
    "version": 2
   },
   "file_extension": ".py",
   "mimetype": "text/x-python",
   "name": "python",
   "nbconvert_exporter": "python",
   "pygments_lexer": "ipython2",
   "version": "2.7.10"
  }
 },
 "nbformat": 4,
 "nbformat_minor": 0
}
