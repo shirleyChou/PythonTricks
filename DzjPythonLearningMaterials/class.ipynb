{
 "cells": [
  {
   "cell_type": "markdown",
   "metadata": {},
   "source": [
    "# Object-Oriented Python"
   ]
  },
  {
   "cell_type": "markdown",
   "metadata": {},
   "source": [
    "## 类（class）和实例（instance）的定义\n",
    "在Python中，类的定义和函数的定义很类似。关键字+代码体"
   ]
  },
  {
   "cell_type": "code",
   "execution_count": 1,
   "metadata": {
    "collapsed": false
   },
   "outputs": [],
   "source": [
    "def function_name(agrs):\n",
    "    'function documentation string'  # 函数文档字符串\n",
    "    pass                             # 函数体\n",
    "\n",
    "class ClassName(object):\n",
    "    'class documentation string'  # 类文档字符串\n",
    "    pass                          # 类体  "
   ]
  },
  {
   "cell_type": "markdown",
   "metadata": {},
   "source": [
    "### 定义一个类就创建了一个类对象（class object）"
   ]
  },
  {
   "cell_type": "code",
   "execution_count": 2,
   "metadata": {
    "collapsed": false
   },
   "outputs": [],
   "source": [
    "class Student(object):\n",
    "    \"\"\"I'm a Student\"\"\"\n",
    "    pass"
   ]
  },
  {
   "cell_type": "markdown",
   "metadata": {},
   "source": [
    "### 实例化一个类对象创建一个实例对象（instance object）\n",
    "#### 实例化的格式："
   ]
  },
  {
   "cell_type": "code",
   "execution_count": 3,
   "metadata": {
    "collapsed": false
   },
   "outputs": [
    {
     "name": "stdout",
     "output_type": "stream",
     "text": [
      "<__main__.Student object at 0x102e7b5d0>\n",
      "<class '__main__.Student'>\n"
     ]
    }
   ],
   "source": [
    "bart = Student() # 实例化\n",
    "print bart       # bart指向一个Student的实例，0x104a57ad0为内存地址\n",
    "\n",
    "print Student    # 一个类"
   ]
  },
  {
   "cell_type": "markdown",
   "metadata": {},
   "source": [
    "### Instance vs. Object\n",
    "* Everything is an object in Python. An object has identity（每个object的地址都不一样）\n",
    "* In python, all objects have a type (returned by type(x)) which is also an object. Objects are instances of types. So, \"42 is an instance of the type int\" is equivalent to \"42 is an int object\""
   ]
  },
  {
   "cell_type": "markdown",
   "metadata": {},
   "source": [
    "### [Class要不要写object?](http://stackoverflow.com/questions/6368432/objects-vs-instance-in-python/6380430#6380430)"
   ]
  },
  {
   "cell_type": "code",
   "execution_count": 4,
   "metadata": {
    "collapsed": false
   },
   "outputs": [
    {
     "name": "stdout",
     "output_type": "stream",
     "text": [
      "<__main__.ClsDef1 instance at 0x102eb0440>\n",
      "<__main__.ClsDef2 object at 0x102ebb650>\n"
     ]
    }
   ],
   "source": [
    "# Old style class\n",
    "class ClsDef1:\n",
    "    pass\n",
    "\n",
    "# new style class\n",
    "class ClsDef2(object):\n",
    "    pass\n",
    "\n",
    "C1 = ClsDef1()\n",
    "print C1\n",
    "C2 = ClsDef2()\n",
    "print C2"
   ]
  },
  {
   "cell_type": "markdown",
   "metadata": {},
   "source": [
    "## 类对象 vs. 实例对象\n",
    "#### 类对象支持\n",
    "* 属性引用（attribute reference）\n",
    "    * 特殊的类属性（Builtin）\n",
    "        * \\_\\_name\\_\\_, \\_\\_doc\\_\\_, \\_\\_module\\_\\_ etc\n",
    "    * 变量（Variables）\n",
    "    * 方法（Methods）\n",
    "* 实例化（class instantiation）\n",
    "\n",
    "#### 实例对象支持\n",
    "* 属性引用（attribute reference）\n",
    "    * 变量（Variables）\n",
    "    * 方法（Methods）\n",
    "\n",
    "\n",
    "#### 调用语法：obj.name"
   ]
  },
  {
   "cell_type": "code",
   "execution_count": 5,
   "metadata": {
    "collapsed": false
   },
   "outputs": [
    {
     "data": {
      "text/plain": [
       "['__class__',\n",
       " '__delattr__',\n",
       " '__dict__',\n",
       " '__doc__',\n",
       " '__format__',\n",
       " '__getattribute__',\n",
       " '__hash__',\n",
       " '__init__',\n",
       " '__module__',\n",
       " '__new__',\n",
       " '__reduce__',\n",
       " '__reduce_ex__',\n",
       " '__repr__',\n",
       " '__setattr__',\n",
       " '__sizeof__',\n",
       " '__str__',\n",
       " '__subclasshook__',\n",
       " '__weakref__']"
      ]
     },
     "execution_count": 5,
     "metadata": {},
     "output_type": "execute_result"
    }
   ],
   "source": [
    "class Student(object):\n",
    "    \"\"\"I'm a Student\"\"\"\n",
    "    pass\n",
    "\n",
    "\"\"\"\n",
    "内建函数dir()获得一个对象的所有属性和方法\n",
    "\"\"\"\n",
    "dir(Student)"
   ]
  },
  {
   "cell_type": "markdown",
   "metadata": {},
   "source": [
    "### 类属性\n",
    "#### 特殊的类属性（Builtin）"
   ]
  },
  {
   "cell_type": "code",
   "execution_count": 6,
   "metadata": {
    "collapsed": false
   },
   "outputs": [
    {
     "name": "stdout",
     "output_type": "stream",
     "text": [
      "__main__\n",
      "I'm a Student\n",
      "Student\n",
      "(<type 'object'>,)\n",
      "<type 'type'>\n"
     ]
    }
   ],
   "source": [
    "class Student(object):\n",
    "    \"\"\"I'm a Student\"\"\"\n",
    "    pass\n",
    "\n",
    "print Student.__module__  # 类定义所在的模块\n",
    "print Student.__doc__     # 返回类的文档字符串\n",
    "print Student.__name__    # 返回类的名称\n",
    "print Student.__bases__   # 查看类的父类\n",
    "print Student.__class__   "
   ]
  },
  {
   "cell_type": "markdown",
   "metadata": {},
   "source": [
    "#### 变量（Variables） 和 方法（Methods）"
   ]
  },
  {
   "cell_type": "code",
   "execution_count": 7,
   "metadata": {
    "collapsed": false
   },
   "outputs": [
    {
     "name": "stdout",
     "output_type": "stream",
     "text": [
      "<type 'int'>\n",
      "<type 'instancemethod'>\n"
     ]
    }
   ],
   "source": [
    "class MyClass(object):\n",
    "    \"\"\"A simple example class\"\"\"\n",
    "    i = 12345    # class variables\n",
    "\n",
    "    def f(self):\n",
    "        pass\n",
    "\n",
    "#  MyClass.i和MyClass.f是有效的属性引用\n",
    "print type(MyClass.i)\n",
    "print type(MyClass.f)"
   ]
  },
  {
   "cell_type": "code",
   "execution_count": 8,
   "metadata": {
    "collapsed": false
   },
   "outputs": [
    {
     "name": "stdout",
     "output_type": "stream",
     "text": [
      "12345\n",
      "111\n"
     ]
    }
   ],
   "source": [
    "# class variables可以被修改\n",
    "print MyClass.i\n",
    "MyClass.i = 111\n",
    "print MyClass.i"
   ]
  },
  {
   "cell_type": "code",
   "execution_count": 29,
   "metadata": {
    "collapsed": false
   },
   "outputs": [
    {
     "ename": "TypeError",
     "evalue": "unbound method f() must be called with MyClass instance as first argument (got nothing instead)",
     "output_type": "error",
     "traceback": [
      "\u001b[0;31m---------------------------------------------------------------------------\u001b[0m",
      "\u001b[0;31mTypeError\u001b[0m                                 Traceback (most recent call last)",
      "\u001b[0;32m<ipython-input-29-13081ecf38d2>\u001b[0m in \u001b[0;36m<module>\u001b[0;34m()\u001b[0m\n\u001b[0;32m----> 1\u001b[0;31m \u001b[0;32mprint\u001b[0m \u001b[0mMyClass\u001b[0m\u001b[0;34m.\u001b[0m\u001b[0mf\u001b[0m\u001b[0;34m(\u001b[0m\u001b[0;34m)\u001b[0m\u001b[0;34m\u001b[0m\u001b[0m\n\u001b[0m",
      "\u001b[0;31mTypeError\u001b[0m: unbound method f() must be called with MyClass instance as first argument (got nothing instead)"
     ]
    }
   ],
   "source": [
    "class MyClass(object):\n",
    "    \"\"\"A simple example class\"\"\"\n",
    "    i = 12345    # class variables\n",
    "\n",
    "    def f(self):\n",
    "        pass\n",
    "\n",
    "print MyClass.f()"
   ]
  },
  {
   "cell_type": "markdown",
   "metadata": {},
   "source": [
    "### self\n",
    "self, 指的是实例（instance），也就是将实例本身作为第一个参数传递给函数，所以：\n",
    "1. 调用时不用传递该参数\n",
    "2. 没有实例，方法是不能被调用的。（有self）必须要绑定一个实例才可以被调用。\n",
    "\n",
    "![classmethod](https://github.com/shirleyChou/PythonTricks/blob/master/Res/trans-classmethod-staticmethod-1.png?raw=true)"
   ]
  },
  {
   "cell_type": "markdown",
   "metadata": {},
   "source": [
    "### 实例化（Instantiation）"
   ]
  },
  {
   "cell_type": "markdown",
   "metadata": {},
   "source": [
    "#### 想在初始化时为实例绑定一些参数（变量），怎么办？\n",
    "**用\\_\\_init\\_\\_**，创建实例(instance)时会自动为新创建的类实例调用 \\_\\_init\\_\\_ 方法。"
   ]
  },
  {
   "cell_type": "code",
   "execution_count": 9,
   "metadata": {
    "collapsed": false
   },
   "outputs": [
    {
     "name": "stdout",
     "output_type": "stream",
     "text": [
      "Bart Simpson\n"
     ]
    }
   ],
   "source": [
    "class Student(object):\n",
    "    def __init__(self, name, score):\n",
    "        self.name = name\n",
    "        self.score = score\n",
    "    \n",
    "    def scores(self):\n",
    "        return self.score\n",
    "\n",
    "bart = Student('Bart Simpson', 59)\n",
    "print bart.name"
   ]
  },
  {
   "cell_type": "code",
   "execution_count": 10,
   "metadata": {
    "collapsed": false
   },
   "outputs": [
    {
     "name": "stdout",
     "output_type": "stream",
     "text": [
      "Tom\n"
     ]
    }
   ],
   "source": [
    "bart.name = \"Tom\"\n",
    "print bart.name"
   ]
  },
  {
   "cell_type": "markdown",
   "metadata": {},
   "source": [
    "#### 除了绑定参数，还可以绑定行为"
   ]
  },
  {
   "cell_type": "code",
   "execution_count": 11,
   "metadata": {
    "collapsed": false
   },
   "outputs": [
    {
     "data": {
      "text/plain": [
       "59"
      ]
     },
     "execution_count": 11,
     "metadata": {},
     "output_type": "execute_result"
    }
   ],
   "source": [
    "bart.scores()"
   ]
  },
  {
   "cell_type": "markdown",
   "metadata": {},
   "source": [
    "### 方法（Method）那些事儿\n",
    "#### 1. 方法（Methods） vs. 函数（Functions）\n",
    "方法是一个“属于某个对象”的函数\n",
    "\n",
    "#### 2. 方法的参数问题\n",
    "仍然可以用默认参数、可变参数、关键字参数和命名关键字参数\n",
    "\n",
    "#### 3. 方法和变量的命名问题\n",
    "按照传统，methods用动词，variables用名词"
   ]
  },
  {
   "cell_type": "markdown",
   "metadata": {},
   "source": [
    "### 访问限制\n",
    "如果要让内部属性不被外部访问，可以把属性的名称前加上两个下划线\"\\_\\_\"，在Python中，实例的变量名如果以__开头，就变成了一个私有变量（private），只有内部可以访问，外部不能访问"
   ]
  },
  {
   "cell_type": "code",
   "execution_count": 12,
   "metadata": {
    "collapsed": false
   },
   "outputs": [],
   "source": [
    "class Student(object):\n",
    "\n",
    "    def __init__(self, name, score):\n",
    "        self.__name = name\n",
    "        self.__score = score\n",
    "    \n",
    "    def __say_hello(self):\n",
    "        return \"Hello, I'm %s\" % self.__name\n",
    "\n",
    "lily = Student('lily', 91)\n",
    "# lily.__name\n",
    "# lily.__say_hello()"
   ]
  },
  {
   "cell_type": "code",
   "execution_count": null,
   "metadata": {
    "collapsed": true
   },
   "outputs": [],
   "source": [
    "print lily._Student__name\n",
    "print lily._Student__say_hello()"
   ]
  },
  {
   "cell_type": "markdown",
   "metadata": {},
   "source": [
    "## 类变量（Class variables） vs. 实例变量（Instance variables）"
   ]
  },
  {
   "cell_type": "markdown",
   "metadata": {},
   "source": [
    "### 类变量\n",
    "* 定义：在一个类之内，但是所有方法之外的变量\n",
    "* 特性：被该类的所有实例共享\n",
    "\n",
    "### 实例变量\n",
    "* 定义：在方法里面\n",
    "* 特性：unique to每一个实例"
   ]
  },
  {
   "cell_type": "code",
   "execution_count": 14,
   "metadata": {
    "collapsed": false
   },
   "outputs": [
    {
     "name": "stdout",
     "output_type": "stream",
     "text": [
      "Canine\n",
      "Canine\n",
      "Astro\n",
      "Mr. Peanut Butter\n"
     ]
    }
   ],
   "source": [
    "class Dog:\n",
    "    kind = 'Canine'         # class variable shared by all instances\n",
    "    \n",
    "    def __init__(self, name):\n",
    "        self.name = name    # instance variable unique to each instance\n",
    "\n",
    "a = Dog('Astro')\n",
    "pb = Dog('Mr. Peanut Butter')\n",
    "\n",
    "print a.kind   # 'Canine' (shared by all dogs)\n",
    "print pb.kind  # 'Canine' (shared by all dogs)\n",
    "print a.name   # 'Astro' (unique to a)\n",
    "print pb.name  # 'Mr. Peanut Butter' (unique to pb)"
   ]
  },
  {
   "cell_type": "markdown",
   "metadata": {},
   "source": [
    "#### Tricky Number One"
   ]
  },
  {
   "cell_type": "code",
   "execution_count": 15,
   "metadata": {
    "collapsed": true
   },
   "outputs": [],
   "source": [
    "class Connection(object):\n",
    "    verbose = 0                          # class variable\n",
    "\n",
    "    def __init__(self, host):\n",
    "        self.host = host                 # instance variable\n",
    "\n",
    "    def debug(self, v):\n",
    "        self.verbose = v                 # make instance variable\n",
    "\n",
    "    def connect(self):\n",
    "        if self.verbose:                 # class or instance variable?\n",
    "            print \"connection to\", self.host"
   ]
  },
  {
   "cell_type": "code",
   "execution_count": 16,
   "metadata": {
    "collapsed": false
   },
   "outputs": [],
   "source": [
    "c = Connection(1)\n",
    "d = Connection(2)\n",
    "c.verbose = 1        # 创建了实例变量还是修改了类变量？\n",
    "# print c.verbose\n",
    "# print d.verbose \n",
    "# print Connection.verbose\n",
    "\n",
    "# c.connect()\n",
    "# d.connect()\n",
    "\n",
    "# Connection.verbose = 2\n",
    "# c.connect()\n",
    "# d.connect()"
   ]
  },
  {
   "cell_type": "markdown",
   "metadata": {},
   "source": [
    "#### Tricky Number Two "
   ]
  },
  {
   "cell_type": "code",
   "execution_count": 17,
   "metadata": {
    "collapsed": false
   },
   "outputs": [
    {
     "data": {
      "text/plain": [
       "['roll over', 'play dead']"
      ]
     },
     "execution_count": 17,
     "metadata": {},
     "output_type": "execute_result"
    }
   ],
   "source": [
    "class Dog:\n",
    "    tricks = []\n",
    "    \n",
    "    def __init__(self, name):\n",
    "        self.name = name\n",
    "    def add_trick(self, trick):\n",
    "        self.tricks.append(trick)\n",
    "    \n",
    "d = Dog('Fido')\n",
    "e = Dog('Buddy')\n",
    "d.add_trick('roll over')\n",
    "e.add_trick('play dead')\n",
    "d.tricks"
   ]
  },
  {
   "cell_type": "code",
   "execution_count": 18,
   "metadata": {
    "collapsed": false
   },
   "outputs": [
    {
     "name": "stdout",
     "output_type": "stream",
     "text": [
      "['roll over', 'play dead']\n",
      "['roll over', 'play dead']\n"
     ]
    }
   ],
   "source": [
    "class Dog:\n",
    "    def __init__(self, name='', tricks=[]):\n",
    "        self.name = name\n",
    "        self.tricks = tricks\n",
    "\n",
    "    def add_trick(self, trick):\n",
    "        self.tricks.append(trick)\n",
    "\n",
    "\n",
    "d = Dog('Fido')\n",
    "e = Dog('Buddy')\n",
    "d.add_trick('roll over')\n",
    "e.add_trick('play dead')\n",
    "\n",
    "print d.tricks\n",
    "print e.tricks"
   ]
  },
  {
   "cell_type": "code",
   "execution_count": 19,
   "metadata": {
    "collapsed": false
   },
   "outputs": [
    {
     "name": "stdout",
     "output_type": "stream",
     "text": [
      "['roll over']\n",
      "['play dead']\n"
     ]
    }
   ],
   "source": [
    "class Dog:\n",
    "    def __init__(self, name=''):\n",
    "        self.name = name\n",
    "        self.tricks = []\n",
    "\n",
    "    def add_trick(self, trick):\n",
    "        self.tricks.append(trick)\n",
    "\n",
    "\n",
    "d = Dog('Fido')\n",
    "e = Dog('Buddy')\n",
    "d.add_trick('roll over')\n",
    "e.add_trick('play dead')\n",
    "\n",
    "print d.tricks\n",
    "print e.tricks"
   ]
  },
  {
   "cell_type": "markdown",
   "metadata": {},
   "source": [
    "## @staticmethod vs @classmethod\n",
    "### classmethod\n",
    "用cls作为第一个参数时将类本身作为第一个参数传递给函数。用这个方法的主要意图是希望通过类直接调用该方法。\n",
    "\n",
    "### staticmethod\n",
    "用staticmethod以后，实例和类都不会作为参数传给方法，方法就是一个普通的函数。唯一的不同是可以用实例或者类来调用。一般当方法不需要用self或者cls的时候，将该方法改成静态方法。"
   ]
  },
  {
   "cell_type": "code",
   "execution_count": 20,
   "metadata": {
    "collapsed": true
   },
   "outputs": [],
   "source": [
    "# encoding: utf-8\n",
    "\n",
    "class A(object):\n",
    "    def foo(self, x):\n",
    "        print \"executing foo({}, {})\".format(self, x)\n",
    "\n",
    "    @classmethod\n",
    "    def class_foo(cls, x):\n",
    "        print \"executing class_foo({}, {})\".format(cls, x)\n",
    "\n",
    "    @staticmethod\n",
    "    def static_foo(x):\n",
    "        print \"executing static_foo({})\".format(x)  "
   ]
  },
  {
   "cell_type": "code",
   "execution_count": 21,
   "metadata": {
    "collapsed": false
   },
   "outputs": [
    {
     "name": "stdout",
     "output_type": "stream",
     "text": [
      "executing foo(<__main__.A object at 0x102f67a10>, 1)\n"
     ]
    }
   ],
   "source": [
    "a = A()\n",
    "a.foo(1)"
   ]
  },
  {
   "cell_type": "code",
   "execution_count": 22,
   "metadata": {
    "collapsed": false
   },
   "outputs": [
    {
     "name": "stdout",
     "output_type": "stream",
     "text": [
      "executing class_foo(<class '__main__.A'>, 1)\n"
     ]
    }
   ],
   "source": [
    "a.class_foo(1)"
   ]
  },
  {
   "cell_type": "code",
   "execution_count": 23,
   "metadata": {
    "collapsed": false
   },
   "outputs": [
    {
     "name": "stdout",
     "output_type": "stream",
     "text": [
      "executing static_foo(1)\n"
     ]
    }
   ],
   "source": [
    "A.static_foo(1)"
   ]
  },
  {
   "cell_type": "code",
   "execution_count": 24,
   "metadata": {
    "collapsed": false
   },
   "outputs": [
    {
     "name": "stdout",
     "output_type": "stream",
     "text": [
      "<bound method A.foo of <__main__.A object at 0x102f67a10>>\n",
      "<bound method type.class_foo of <class '__main__.A'>>\n",
      "<function static_foo at 0x102ec9d70>\n"
     ]
    }
   ],
   "source": [
    "# when you call a.foo you don't just get the function, you get a \"partially applied\" version of the function \n",
    "# with the object instance a bound as the first argument to the function. \n",
    "print a.foo\n",
    "\n",
    "# With a.class_foo, a is not bound to class_foo, rather the class A is bound to class_foo\n",
    "print a.class_foo\n",
    "\n",
    "# static_foo expects 1 argument, and a.static_foo expects 1 argument too.\n",
    "print a.static_foo"
   ]
  },
  {
   "cell_type": "markdown",
   "metadata": {},
   "source": [
    "## 继承（Inheritance）与多态（Polymorphism）\n",
    "### 继承\n",
    "继承最大的好处是子类获得了父类的全部功能。"
   ]
  },
  {
   "cell_type": "code",
   "execution_count": 25,
   "metadata": {
    "collapsed": true
   },
   "outputs": [],
   "source": [
    "class Animal(object):\n",
    "    def run(self):\n",
    "        print('Animal is running...')"
   ]
  },
  {
   "cell_type": "code",
   "execution_count": 26,
   "metadata": {
    "collapsed": true
   },
   "outputs": [],
   "source": [
    "class Dog(Animal):\n",
    "    pass\n",
    "\n",
    "class Cat(Animal):\n",
    "    pass"
   ]
  },
  {
   "cell_type": "markdown",
   "metadata": {},
   "source": [
    "由于Animial实现了run()方法，因此，Dog和Cat作为它的子类，什么事也没干，就自动拥有了run()方法："
   ]
  },
  {
   "cell_type": "code",
   "execution_count": 27,
   "metadata": {
    "collapsed": false
   },
   "outputs": [
    {
     "name": "stdout",
     "output_type": "stream",
     "text": [
      "Animal is running...\n",
      "Animal is running...\n"
     ]
    }
   ],
   "source": [
    "dog = Dog()\n",
    "dog.run()\n",
    "\n",
    "cat = Cat()\n",
    "cat.run()"
   ]
  },
  {
   "cell_type": "markdown",
   "metadata": {},
   "source": [
    "当我们定义一个class的时候，我们实际上就定义了一种数据类型。我们定义的数据类型和Python自带的数据类型，比如str、list、dict没什么两样："
   ]
  },
  {
   "cell_type": "code",
   "execution_count": 28,
   "metadata": {
    "collapsed": false
   },
   "outputs": [
    {
     "name": "stdout",
     "output_type": "stream",
     "text": [
      "True\n",
      "True\n",
      "True\n"
     ]
    }
   ],
   "source": [
    "a = list() # a是list类型\n",
    "b = Animal() # b是Animal类型\n",
    "c = Dog() # c是Dog类型\n",
    "\n",
    "print isinstance(a, list)\n",
    "print isinstance(b, Animal)\n",
    "print isinstance(c, Dog)"
   ]
  },
  {
   "cell_type": "markdown",
   "metadata": {},
   "source": [
    "在继承关系中，如果一个实例的数据类型是某个子类，那它的数据类型也可以被看做是父类。但是，反过来就不行"
   ]
  },
  {
   "cell_type": "code",
   "execution_count": 29,
   "metadata": {
    "collapsed": false
   },
   "outputs": [
    {
     "name": "stdout",
     "output_type": "stream",
     "text": [
      "True\n"
     ]
    }
   ],
   "source": [
    "print isinstance(c, Animal)"
   ]
  },
  {
   "cell_type": "code",
   "execution_count": 30,
   "metadata": {
    "collapsed": false
   },
   "outputs": [
    {
     "data": {
      "text/plain": [
       "False"
      ]
     },
     "execution_count": 30,
     "metadata": {},
     "output_type": "execute_result"
    }
   ],
   "source": [
    "b = Animal()\n",
    "isinstance(b, Dog)"
   ]
  },
  {
   "cell_type": "markdown",
   "metadata": {},
   "source": [
    "继承的第二个好处需要我们对代码做一点改进。你看到了，无论是Dog还是Cat，它们run()的时候，显示的都是Animal is running...，符合逻辑的做法是分别显示Dog is running...和Cat is running...，因此，对Dog和Cat类改进如下："
   ]
  },
  {
   "cell_type": "code",
   "execution_count": 31,
   "metadata": {
    "collapsed": false
   },
   "outputs": [
    {
     "name": "stdout",
     "output_type": "stream",
     "text": [
      "Dog is running...\n",
      "Cat is running...\n"
     ]
    }
   ],
   "source": [
    "class Dog(Animal):\n",
    "\n",
    "    def run(self):\n",
    "        print('Dog is running...')\n",
    "\n",
    "class Cat(Animal):\n",
    "\n",
    "    def run(self):\n",
    "        print('Cat is running...')\n",
    "\n",
    "\n",
    "dog = Dog()\n",
    "dog.run()\n",
    "\n",
    "cat = Cat()\n",
    "cat.run()"
   ]
  },
  {
   "cell_type": "markdown",
   "metadata": {},
   "source": [
    "当子类和父类都存在相同的run()方法时，我们说，子类的run()覆盖了父类的run()，在代码运行的时候，总是会调用子类的run()。这样，我们就获得了继承的另一个好处：多态（polymorphism）。"
   ]
  },
  {
   "cell_type": "markdown",
   "metadata": {},
   "source": [
    "### 多态"
   ]
  },
  {
   "cell_type": "code",
   "execution_count": 32,
   "metadata": {
    "collapsed": false
   },
   "outputs": [
    {
     "name": "stdout",
     "output_type": "stream",
     "text": [
      "Missy: Meow!\n",
      "Mr. Mistoffelees: Meow!\n",
      "Lassie: Woof! Woof!\n"
     ]
    }
   ],
   "source": [
    "class Animal:\n",
    "    def __init__(self, name):    # Constructor of the class\n",
    "        self.name = name\n",
    "    \n",
    "    def talk(self):              # Abstract method, defined by convention only\n",
    "        raise NotImplementedError(\"Subclass must implement abstract method\")\n",
    "\n",
    "class Cat(Animal):\n",
    "    def talk(self):\n",
    "        return 'Meow!'\n",
    "\n",
    "class Dog(Animal):\n",
    "    def talk(self):\n",
    "        return 'Woof! Woof!'\n",
    "\n",
    "animals = [Cat('Missy'),\n",
    "           Cat('Mr. Mistoffelees'),\n",
    "           Dog('Lassie')]\n",
    "\n",
    "for animal in animals:\n",
    "    print animal.name + ': ' + animal.talk()"
   ]
  },
  {
   "cell_type": "markdown",
   "metadata": {},
   "source": [
    "所有动物都\"talk\"(调用方法\"talk\")，但他们talk的行为不一样。也就是说这个talk的行为的多态的（polymorphic），也就是talk什么是由动物本身决定。所有抽象的Animal类本身不会很的talk，但具体的动物（像猫，狗）会有一个对\"talk\"这个行为的具体实现。\n",
    "\n",
    "多态允许我们具体一个抽象层的公用方法（比如下面的pay_bill())，在一个特定的实例上实现它。"
   ]
  },
  {
   "cell_type": "code",
   "execution_count": 33,
   "metadata": {
    "collapsed": true
   },
   "outputs": [],
   "source": [
    "class Person(object):\n",
    "    def pay_bill():\n",
    "        raise NotImplementedError\n",
    "\n",
    "class Millionare(Person):\n",
    "    def pay_bill():\n",
    "        print \"Here you go! Keep the change!\"\n",
    "\n",
    "class GradStudent(Person):\n",
    "    def pay_bill():\n",
    "        print \"Can I owe you ten bucks or do the dishes?\""
   ]
  },
  {
   "cell_type": "markdown",
   "metadata": {},
   "source": [
    "Millionare和GradStudent都要付钱，但是付钱的行为是不一样的。"
   ]
  },
  {
   "cell_type": "markdown",
   "metadata": {},
   "source": [
    "## 类、实例和其他对象的内建函数"
   ]
  },
  {
   "cell_type": "markdown",
   "metadata": {},
   "source": [
    "### issubclass()"
   ]
  },
  {
   "cell_type": "code",
   "execution_count": 34,
   "metadata": {
    "collapsed": true
   },
   "outputs": [],
   "source": [
    "class Animal(object):\n",
    "    def run(self):\n",
    "        print('Animal is running...')\n",
    "\n",
    "class Dog(Animal):\n",
    "\n",
    "    def run(self):\n",
    "        print('Dog is running...')\n",
    "\n",
    "class Cat(Animal):\n",
    "\n",
    "    def run(self):\n",
    "        print('Cat is running...')"
   ]
  },
  {
   "cell_type": "code",
   "execution_count": 35,
   "metadata": {
    "collapsed": false
   },
   "outputs": [
    {
     "data": {
      "text/plain": [
       "True"
      ]
     },
     "execution_count": 35,
     "metadata": {},
     "output_type": "execute_result"
    }
   ],
   "source": [
    "issubclass(Dog, Animal)"
   ]
  },
  {
   "cell_type": "markdown",
   "metadata": {},
   "source": [
    "### Super()\n",
    "super()在单继承的好处是很小的，大多数情况下，你不必硬编码父类的名称而使用其父方法的每个方法。super()主要用于多继承。"
   ]
  },
  {
   "cell_type": "code",
   "execution_count": null,
   "metadata": {
    "collapsed": true
   },
   "outputs": [],
   "source": [
    "class Child(SomeBaseClass):\n",
    "    def __init__(self):\n",
    "        super(Child, self).__init__()\n",
    "\n",
    "# vs\n",
    "\n",
    "class Child(SomeBaseClass):\n",
    "    def __init__(self):\n",
    "        SomeBaseClass.__init__(self)"
   ]
  },
  {
   "cell_type": "markdown",
   "metadata": {},
   "source": [
    "### hasattr(), getattr(), setattr(), delattr()"
   ]
  },
  {
   "cell_type": "code",
   "execution_count": 37,
   "metadata": {
    "collapsed": true
   },
   "outputs": [],
   "source": [
    "class Stack(object):\n",
    "    \"A well-known data structure...\"\n",
    "    def __init__(self):\n",
    "        self.items = []\n",
    "\n",
    "    def push(self, x):\n",
    "        self.items.append(x)\n",
    "\n",
    "    def pop(self):\n",
    "        x = self.items[-1]\n",
    "        del self.items[-1]\n",
    "        return x\n",
    "\n",
    "    def empty(self):\n",
    "        return len(self.items) == 0\n",
    "\n",
    "\n",
    "class FancyStack(Stack): \n",
    "    \"\"\"stack with added ability to inspect inferior stack items\"\"\"\n",
    "    def __init__(self, limit):\n",
    "        # __init__ would overwrite parent class if no FancyStack.__init__(self)\n",
    "        self.limit = limit\n",
    "        super(FancyStack, self).__init__()   # base class constructor\n",
    "\n",
    "    def peek(self, n):\n",
    "        size = len(self.items)\n",
    "        assert 0 <= n < size\n",
    "        return self.items[size-1-n]"
   ]
  },
  {
   "cell_type": "code",
   "execution_count": 38,
   "metadata": {
    "collapsed": false
   },
   "outputs": [
    {
     "name": "stdout",
     "output_type": "stream",
     "text": [
      "True\n",
      "2\n",
      "False\n",
      "19\n",
      "#### These function can be used in methods 2 ###\n",
      "True\n",
      "<bound method FancyStack.push of <__main__.FancyStack object at 0x102fdae10>>\n"
     ]
    }
   ],
   "source": [
    "f = FancyStack(2)\n",
    "\n",
    "print hasattr(f, 'items')   # True   \n",
    "print getattr(f, 'limit')   # 2\n",
    "\n",
    "print hasattr(f, 'third')\n",
    "setattr(f, 'third', 19)\n",
    "print getattr(f, 'third') \n",
    "\n",
    "print \"#### These function can be used in methods 2 ###\"\n",
    "print hasattr(f, 'push')\n",
    "print getattr(f, 'push')"
   ]
  },
  {
   "cell_type": "markdown",
   "metadata": {},
   "source": [
    "## 类的高级特性\n",
    "##### 欢迎点击\n",
    "* [\\_\\_slots\\_\\_](http://www.liaoxuefeng.com/wiki/0014316089557264a6b348958f449949df42a6d3a2e542c000/00143186739713011a09b63dcbd42cc87f907a778b3ac73000)\n",
    "* [描述符(class descriptors)](https://github.com/shirleyChou/PythonTricks/blob/master/PythonBasic.md)\n",
    "* [定制类](http://www.liaoxuefeng.com/wiki/0014316089557264a6b348958f449949df42a6d3a2e542c000/0014319098638265527beb24f7840aa97de564ccc7f20f6000)\n",
    "* [元类](http://www.liaoxuefeng.com/wiki/0014316089557264a6b348958f449949df42a6d3a2e542c000/0014319106919344c4ef8b1e04c48778bb45796e0335839000)"
   ]
  }
 ],
 "metadata": {
  "kernelspec": {
   "display_name": "Python 2",
   "language": "python",
   "name": "python2"
  },
  "language_info": {
   "codemirror_mode": {
    "name": "ipython",
    "version": 2
   },
   "file_extension": ".py",
   "mimetype": "text/x-python",
   "name": "python",
   "nbconvert_exporter": "python",
   "pygments_lexer": "ipython2",
   "version": "2.7.10"
  }
 },
 "nbformat": 4,
 "nbformat_minor": 0
}
